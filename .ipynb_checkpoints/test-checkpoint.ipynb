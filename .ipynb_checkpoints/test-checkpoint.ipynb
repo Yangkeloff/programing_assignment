{
 "cells": [
  {
   "cell_type": "code",
   "execution_count": 10,
   "id": "adabb126",
   "metadata": {},
   "outputs": [
    {
     "name": "stdout",
     "output_type": "stream",
     "text": [
      "ABBCFEA\n",
      "CCGGHJB\n",
      "YES\n",
      "C->H F->J E->B A->C B->G\n"
     ]
    }
   ],
   "source": [
    "# 字符串映射\n",
    "\n",
    "# 添加元素进计数数组\n",
    "def add_item(ch, li):\n",
    "    flag = False\n",
    "    for item in li:\n",
    "        if ch == item['ch']:\n",
    "            flag = True\n",
    "            item['count'] = item['count'] + 1\n",
    "    if flag == False:\n",
    "        li.append({'ch':ch, 'count':1})\n",
    "    \n",
    "count_a = []\n",
    "count_b = []\n",
    "a = input()\n",
    "b = input()\n",
    "for i in range(len(a)):\n",
    "    add_item(a[i], count_a)\n",
    "    add_item(b[i], count_b)\n",
    "count_a.sort(key=lambda v: v['count'])\n",
    "count_b.sort(key=lambda v: v['count'])\n",
    "flag = False\n",
    "ans = []\n",
    "for i in range(len(count_a)):\n",
    "    if count_a[i]['count'] != count_b[i]['count']:\n",
    "        print('NO')\n",
    "        flag = True\n",
    "        break\n",
    "    else:\n",
    "        ans.append((count_a[i]['ch'], count_b[i]['ch']))\n",
    "if flag == False:\n",
    "    print('YES')\n",
    "    for i in range(len(ans) - 1):\n",
    "        print(f'{ans[i][0]}->{ans[i][1]} ', end='')\n",
    "    print(f'{ans[len(ans)-1][0]}->{ans[len(ans)-1][1]}')"
   ]
  },
  {
   "cell_type": "code",
   "execution_count": 40,
   "id": "354ea71c",
   "metadata": {
    "scrolled": true
   },
   "outputs": [
    {
     "name": "stdout",
     "output_type": "stream",
     "text": [
      "a aa sd 12 aaa Bd dB\n",
      "BD c a 21 A\n",
      "aa aaa\n",
      "#\n",
      "Aaa\n"
     ]
    }
   ],
   "source": [
    "# 特殊单词\n",
    "# 大写转小写\n",
    "def upper2lower(word):\n",
    "    word_list = list(word)\n",
    "    for i in range(len(word_list)):\n",
    "        if word_list[i] >= 'A' and word_list[i] <= 'Z':\n",
    "            word_list[i] = chr(ord(word_list[i]) + 32)\n",
    "    return word_list\n",
    "\n",
    "text = ''\n",
    "n = 0\n",
    "while True:\n",
    "    st = str(input())\n",
    "    if st != '#':\n",
    "        text = text + st\n",
    "    else:\n",
    "        break\n",
    "\n",
    "str1 = text.split()\n",
    "t = len(str1) - 1\n",
    "str2 = ['']*10000\n",
    "str3 = ['']*10000\n",
    "num = 0\n",
    "for i in range(len(str1)):\n",
    "    if len(str1[i]) != len(str1[t]) or str1[i] == str1[t]:\n",
    "        continue\n",
    "    \n",
    "    word_i = upper2lower(str1[i]).sort()\n",
    "    word_t = upper2lower(str1[t]).sort()\n",
    "    if word_i == word_t:\n",
    "        for s in range(n):\n",
    "            if str1[i] == str2[s] or stu1 == str3[s]:\n",
    "                num = 1\n",
    "                break\n",
    "        if num == 0:\n",
    "            str2[n] = str1[i]\n",
    "            str3[n] = word_i\n",
    "            n = n + 1\n",
    "        break\n",
    "\n",
    "temp = ''\n",
    "for i in range(n):\n",
    "    for j in range(i+1, n):\n",
    "        if str2[i] > str2[j]:\n",
    "            temp = str2[i]\n",
    "            str2[i] = str2[j]\n",
    "            str2[j] = temp\n",
    "            \n",
    "for i in range(n):\n",
    "    print(str2[i])\n",
    "        "
   ]
  },
  {
   "cell_type": "code",
   "execution_count": 41,
   "id": "aecd3b20",
   "metadata": {},
   "outputs": [],
   "source": [
    "# 目录列表\n"
   ]
  },
  {
   "cell_type": "code",
   "execution_count": 39,
   "id": "654a5815",
   "metadata": {},
   "outputs": [
    {
     "data": {
      "text/plain": [
       "['a', 'b', 'c']"
      ]
     },
     "execution_count": 39,
     "metadata": {},
     "output_type": "execute_result"
    }
   ],
   "source": [
    "def upper2lower(word):\n",
    "    word_list = list(word)\n",
    "    for i in range(len(word_list)):\n",
    "        if word_list[i] >= 'A' and word_list[i] <= 'Z':\n",
    "            word_list[i] = chr(ord(word_list[i]) + 32)\n",
    "    return word_list\n",
    "upper2lower('ABC')"
   ]
  },
  {
   "cell_type": "code",
   "execution_count": null,
   "id": "9a96adc7",
   "metadata": {},
   "outputs": [],
   "source": []
  }
 ],
 "metadata": {
  "celltoolbar": "原始单元格格式",
  "kernelspec": {
   "display_name": "Python 3 (ipykernel)",
   "language": "python",
   "name": "python3"
  },
  "language_info": {
   "codemirror_mode": {
    "name": "ipython",
    "version": 3
   },
   "file_extension": ".py",
   "mimetype": "text/x-python",
   "name": "python",
   "nbconvert_exporter": "python",
   "pygments_lexer": "ipython3",
   "version": "3.9.12"
  }
 },
 "nbformat": 4,
 "nbformat_minor": 5
}
