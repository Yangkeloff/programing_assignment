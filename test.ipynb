{
 "cells": [
  {
   "cell_type": "code",
   "execution_count": 10,
   "id": "adabb126",
   "metadata": {},
   "outputs": [
    {
     "name": "stdout",
     "output_type": "stream",
     "text": [
      "ABBCFEA\n",
      "CCGGHJB\n",
      "YES\n",
      "C->H F->J E->B A->C B->G\n"
     ]
    }
   ],
   "source": [
    "# 字符串映射\n",
    "\n",
    "# 添加元素进计数数组\n",
    "def add_item(ch, li):\n",
    "    flag = False\n",
    "    for item in li:\n",
    "        if ch == item['ch']:\n",
    "            flag = True\n",
    "            item['count'] = item['count'] + 1\n",
    "    if flag == False:\n",
    "        li.append({'ch':ch, 'count':1})\n",
    "    \n",
    "count_a = []\n",
    "count_b = []\n",
    "a = input()\n",
    "b = input()\n",
    "for i in range(len(a)):\n",
    "    add_item(a[i], count_a)\n",
    "    add_item(b[i], count_b)\n",
    "count_a.sort(key=lambda v: v['count'])\n",
    "count_b.sort(key=lambda v: v['count'])\n",
    "flag = False\n",
    "ans = []\n",
    "for i in range(len(count_a)):\n",
    "    if count_a[i]['count'] != count_b[i]['count']:\n",
    "        print('NO')\n",
    "        flag = True\n",
    "        break\n",
    "    else:\n",
    "        ans.append((count_a[i]['ch'], count_b[i]['ch']))\n",
    "if flag == False:\n",
    "    print('YES')\n",
    "    for i in range(len(ans) - 1):\n",
    "        print(f'{ans[i][0]}->{ans[i][1]} ', end='')\n",
    "    print(f'{ans[len(ans)-1][0]}->{ans[len(ans)-1][1]}')"
   ]
  },
  {
   "cell_type": "code",
   "execution_count": null,
   "id": "354ea71c",
   "metadata": {},
   "outputs": [],
   "source": [
    "# 特殊单词\n"
   ]
  }
 ],
 "metadata": {
  "celltoolbar": "原始单元格格式",
  "kernelspec": {
   "display_name": "Python 3 (ipykernel)",
   "language": "python",
   "name": "python3"
  },
  "language_info": {
   "codemirror_mode": {
    "name": "ipython",
    "version": 3
   },
   "file_extension": ".py",
   "mimetype": "text/x-python",
   "name": "python",
   "nbconvert_exporter": "python",
   "pygments_lexer": "ipython3",
   "version": "3.9.12"
  }
 },
 "nbformat": 4,
 "nbformat_minor": 5
}
